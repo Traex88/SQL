{
 "cells": [
  {
   "cell_type": "code",
   "execution_count": 1,
   "metadata": {},
   "outputs": [],
   "source": [
    "import pandas as pd\n",
    "from sqlalchemy import create_engine, inspect, func\n",
    "import time\n",
    "import sqlalchemy\n",
    "from sqlalchemy.ext.automap import automap_base\n",
    "from sqlalchemy.orm import Session\n",
    "import psycopg2 as psycopg"
   ]
  },
  {
   "cell_type": "code",
   "execution_count": 2,
   "metadata": {},
   "outputs": [],
   "source": [
    "connection_string = \"postgres:dragon@localhost:5432/SQL_Challenge\"\n",
    "engine = create_engine(f'postgresql://{connection_string}')"
   ]
  },
  {
   "cell_type": "code",
   "execution_count": 3,
   "metadata": {},
   "outputs": [],
   "source": [
    "departments = ('data/departments.csv')\n",
    "dept_emp = ('data/dept_emp.csv')\n",
    "dept_manag = ('data/dept_manager.csv')\n",
    "emp = ('data/employees.csv')\n",
    "salaries = ('data/salaries.csv')\n",
    "titles = ('data/titles.csv')"
   ]
  },
  {
   "cell_type": "code",
   "execution_count": 3,
   "metadata": {},
   "outputs": [
    {
     "data": {
      "text/plain": [
       "[]"
      ]
     },
     "execution_count": 3,
     "metadata": {},
     "output_type": "execute_result"
    }
   ],
   "source": [
    "engine.table_names()"
   ]
  },
  {
   "cell_type": "code",
   "execution_count": null,
   "metadata": {},
   "outputs": [],
   "source": [
    "departments.to_sql(name='departments', con=engine, if_exists='append', index=True)\n",
    "dept_emp.to_sql(name='dept_emp', con=engine, if_exists='append', index=True)\n",
    "dept_manag.to_sql(name='dept_manag', con=engine, if_exists='append', index=True)\n",
    "emp.to_sql(name='emp', con=engine, if_exists='append', index=True)\n",
    "salaries.to_sql(name='salaries', con=engine, if_exists='append', index=True)\n",
    "titles.to_sql(name='titles', con=engine, if_exists='append', index=True)\n"
   ]
  }
 ],
 "metadata": {
  "kernelspec": {
   "display_name": "Python 3",
   "language": "python",
   "name": "python3"
  },
  "language_info": {
   "codemirror_mode": {
    "name": "ipython",
    "version": 3
   },
   "file_extension": ".py",
   "mimetype": "text/x-python",
   "name": "python",
   "nbconvert_exporter": "python",
   "pygments_lexer": "ipython3",
   "version": "3.8.3"
  }
 },
 "nbformat": 4,
 "nbformat_minor": 4
}
